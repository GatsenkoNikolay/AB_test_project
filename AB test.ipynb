{
 "cells": [
  {
   "cell_type": "markdown",
   "metadata": {},
   "source": [
    "# Проект А/B тестирование"
   ]
  },
  {
   "cell_type": "markdown",
   "metadata": {},
   "source": [
    "#### Тестируется новая механика оплаты\n",
    "### Нужно ответить на следующие вопросы:\n",
    "<ul style=\"font-size: 20px; line-height: 1.5;\">\n",
    "  <li>Какие метрики я анализирую и почему?</li>\n",
    "  <li>Имеются ли различия в показателях и с чем они могут быть связаны?</li>\n",
    "  <li>Являются ли эти различия статистически значимыми?</li>\n",
    "  <li>Стоит ли запускать новую механику на всех пользователей?</li>\n",
    "</ul>\n",
    "\n",
    "### Также необходимо:\n",
    "<ul style=\"font-size: 20px; line-height: 1.5;\">\n",
    "  <li>Реализовать функцию, которая будет автоматически подгружать информацию из дополнительного файла groups_add.csv и на основании дополнительных параметров пересчитывать метрики.</li>\n",
    "  <li>Реализовать функцию, которая будет строить графики по получаемым метрикам.</li>\n",
    "</ul>\n",
    "\n",
    "##### Описание данных:\n",
    "groups.csv – файл с информацией о принадлежности пользователя к контрольной или экспериментальной группе (А – контроль, B – целевая группа).</br>\n",
    "groups_add.csv – дополнительный файл с пользователями.</br>\n",
    "active_studs.csv – файл с информацией о пользователях, которые зашли на платформу в дни проведения эксперимента.</br>\n",
    "checks.csv – файл с информацией об оплатах пользователей в дни проведения эксперимента. "
   ]
  },
  {
   "cell_type": "markdown",
   "metadata": {},
   "source": [
    "<div style=\"background-color: #d9f2fa; padding: 10px; border-radius: 5px;\">\n",
    "Импортирую библиотеки\n",
    "</div>"
   ]
  },
  {
   "cell_type": "code",
   "execution_count": 28,
   "metadata": {},
   "outputs": [],
   "source": [
    "import pandas as pd\n",
    "import numpy as np\n",
    "import matplotlib.pyplot as plt\n",
    "import seaborn as sns\n",
    "from scipy.stats import shapiro\n",
    "from statsmodels.stats.proportion import proportions_ztest\n",
    "from scipy.stats import levene\n",
    "from scipy.stats import median_test"
   ]
  },
  {
   "cell_type": "markdown",
   "metadata": {},
   "source": [
    "<div style=\"background-color: #d9f2fa; padding: 10px; border-radius: 5px;\">\n",
    "Данные загружены локально\n",
    "</div>"
   ]
  },
  {
   "cell_type": "code",
   "execution_count": 29,
   "metadata": {},
   "outputs": [],
   "source": [
    "df1 = pd.read_csv('Проект_2_groups.csv')\n",
    "df2 = pd.read_csv('Проект_2_group_add.csv')\n",
    "df3 = pd.read_csv('Проект_2_active_studs.csv')\n",
    "df4 = pd.read_csv('Проект_2_checks.csv')"
   ]
  },
  {
   "cell_type": "markdown",
   "metadata": {},
   "source": [
    "<div style=\"background-color: #d9f2fa; padding: 10px; border-radius: 5px;\">\n",
    "Смотрю на вид и размеры данных\n",
    "</div>"
   ]
  },
  {
   "cell_type": "code",
   "execution_count": 23,
   "metadata": {},
   "outputs": [
    {
     "data": {
      "text/html": [
       "<div>\n",
       "<style scoped>\n",
       "    .dataframe tbody tr th:only-of-type {\n",
       "        vertical-align: middle;\n",
       "    }\n",
       "\n",
       "    .dataframe tbody tr th {\n",
       "        vertical-align: top;\n",
       "    }\n",
       "\n",
       "    .dataframe thead th {\n",
       "        text-align: right;\n",
       "    }\n",
       "</style>\n",
       "<table border=\"1\" class=\"dataframe\">\n",
       "  <thead>\n",
       "    <tr style=\"text-align: right;\">\n",
       "      <th></th>\n",
       "      <th>id;grp</th>\n",
       "    </tr>\n",
       "  </thead>\n",
       "  <tbody>\n",
       "    <tr>\n",
       "      <th>0</th>\n",
       "      <td>1489;B</td>\n",
       "    </tr>\n",
       "    <tr>\n",
       "      <th>1</th>\n",
       "      <td>1627;A</td>\n",
       "    </tr>\n",
       "    <tr>\n",
       "      <th>2</th>\n",
       "      <td>1768;B</td>\n",
       "    </tr>\n",
       "    <tr>\n",
       "      <th>3</th>\n",
       "      <td>1783;B</td>\n",
       "    </tr>\n",
       "    <tr>\n",
       "      <th>4</th>\n",
       "      <td>1794;A</td>\n",
       "    </tr>\n",
       "  </tbody>\n",
       "</table>\n",
       "</div>"
      ],
      "text/plain": [
       "   id;grp\n",
       "0  1489;B\n",
       "1  1627;A\n",
       "2  1768;B\n",
       "3  1783;B\n",
       "4  1794;A"
      ]
     },
     "execution_count": 23,
     "metadata": {},
     "output_type": "execute_result"
    }
   ],
   "source": [
    "df1.head()"
   ]
  },
  {
   "cell_type": "code",
   "execution_count": 24,
   "metadata": {},
   "outputs": [
    {
     "data": {
      "text/html": [
       "<div>\n",
       "<style scoped>\n",
       "    .dataframe tbody tr th:only-of-type {\n",
       "        vertical-align: middle;\n",
       "    }\n",
       "\n",
       "    .dataframe tbody tr th {\n",
       "        vertical-align: top;\n",
       "    }\n",
       "\n",
       "    .dataframe thead th {\n",
       "        text-align: right;\n",
       "    }\n",
       "</style>\n",
       "<table border=\"1\" class=\"dataframe\">\n",
       "  <thead>\n",
       "    <tr style=\"text-align: right;\">\n",
       "      <th></th>\n",
       "      <th>id</th>\n",
       "      <th>grp</th>\n",
       "    </tr>\n",
       "  </thead>\n",
       "  <tbody>\n",
       "    <tr>\n",
       "      <th>0</th>\n",
       "      <td>5694584</td>\n",
       "      <td>B</td>\n",
       "    </tr>\n",
       "    <tr>\n",
       "      <th>1</th>\n",
       "      <td>5694830</td>\n",
       "      <td>B</td>\n",
       "    </tr>\n",
       "    <tr>\n",
       "      <th>2</th>\n",
       "      <td>5695057</td>\n",
       "      <td>B</td>\n",
       "    </tr>\n",
       "    <tr>\n",
       "      <th>3</th>\n",
       "      <td>5698872</td>\n",
       "      <td>B</td>\n",
       "    </tr>\n",
       "    <tr>\n",
       "      <th>4</th>\n",
       "      <td>5699067</td>\n",
       "      <td>B</td>\n",
       "    </tr>\n",
       "  </tbody>\n",
       "</table>\n",
       "</div>"
      ],
      "text/plain": [
       "        id grp\n",
       "0  5694584   B\n",
       "1  5694830   B\n",
       "2  5695057   B\n",
       "3  5698872   B\n",
       "4  5699067   B"
      ]
     },
     "execution_count": 24,
     "metadata": {},
     "output_type": "execute_result"
    }
   ],
   "source": [
    "df2.head()"
   ]
  },
  {
   "cell_type": "code",
   "execution_count": 25,
   "metadata": {},
   "outputs": [
    {
     "data": {
      "text/html": [
       "<div>\n",
       "<style scoped>\n",
       "    .dataframe tbody tr th:only-of-type {\n",
       "        vertical-align: middle;\n",
       "    }\n",
       "\n",
       "    .dataframe tbody tr th {\n",
       "        vertical-align: top;\n",
       "    }\n",
       "\n",
       "    .dataframe thead th {\n",
       "        text-align: right;\n",
       "    }\n",
       "</style>\n",
       "<table border=\"1\" class=\"dataframe\">\n",
       "  <thead>\n",
       "    <tr style=\"text-align: right;\">\n",
       "      <th></th>\n",
       "      <th>student_id</th>\n",
       "    </tr>\n",
       "  </thead>\n",
       "  <tbody>\n",
       "    <tr>\n",
       "      <th>0</th>\n",
       "      <td>581585</td>\n",
       "    </tr>\n",
       "    <tr>\n",
       "      <th>1</th>\n",
       "      <td>5723133</td>\n",
       "    </tr>\n",
       "    <tr>\n",
       "      <th>2</th>\n",
       "      <td>3276743</td>\n",
       "    </tr>\n",
       "    <tr>\n",
       "      <th>3</th>\n",
       "      <td>4238589</td>\n",
       "    </tr>\n",
       "    <tr>\n",
       "      <th>4</th>\n",
       "      <td>4475369</td>\n",
       "    </tr>\n",
       "  </tbody>\n",
       "</table>\n",
       "</div>"
      ],
      "text/plain": [
       "   student_id\n",
       "0      581585\n",
       "1     5723133\n",
       "2     3276743\n",
       "3     4238589\n",
       "4     4475369"
      ]
     },
     "execution_count": 25,
     "metadata": {},
     "output_type": "execute_result"
    }
   ],
   "source": [
    "df3.head()"
   ]
  },
  {
   "cell_type": "code",
   "execution_count": 26,
   "metadata": {},
   "outputs": [
    {
     "data": {
      "text/html": [
       "<div>\n",
       "<style scoped>\n",
       "    .dataframe tbody tr th:only-of-type {\n",
       "        vertical-align: middle;\n",
       "    }\n",
       "\n",
       "    .dataframe tbody tr th {\n",
       "        vertical-align: top;\n",
       "    }\n",
       "\n",
       "    .dataframe thead th {\n",
       "        text-align: right;\n",
       "    }\n",
       "</style>\n",
       "<table border=\"1\" class=\"dataframe\">\n",
       "  <thead>\n",
       "    <tr style=\"text-align: right;\">\n",
       "      <th></th>\n",
       "      <th>student_id;\"rev\"</th>\n",
       "    </tr>\n",
       "  </thead>\n",
       "  <tbody>\n",
       "    <tr>\n",
       "      <th>0</th>\n",
       "      <td>1627;990.0</td>\n",
       "    </tr>\n",
       "    <tr>\n",
       "      <th>1</th>\n",
       "      <td>3185;690.0</td>\n",
       "    </tr>\n",
       "    <tr>\n",
       "      <th>2</th>\n",
       "      <td>25973;690.0</td>\n",
       "    </tr>\n",
       "    <tr>\n",
       "      <th>3</th>\n",
       "      <td>26280;690.0</td>\n",
       "    </tr>\n",
       "    <tr>\n",
       "      <th>4</th>\n",
       "      <td>100300;990.0</td>\n",
       "    </tr>\n",
       "  </tbody>\n",
       "</table>\n",
       "</div>"
      ],
      "text/plain": [
       "  student_id;\"rev\"\n",
       "0       1627;990.0\n",
       "1       3185;690.0\n",
       "2      25973;690.0\n",
       "3      26280;690.0\n",
       "4     100300;990.0"
      ]
     },
     "execution_count": 26,
     "metadata": {},
     "output_type": "execute_result"
    }
   ],
   "source": [
    "df4.head()"
   ]
  },
  {
   "cell_type": "markdown",
   "metadata": {},
   "source": [
    "<div style=\"background-color: #d9f2fa; padding: 10px; border-radius: 5px;\">\n",
    "Проверяю пропуски в данных\n",
    "</div>"
   ]
  },
  {
   "cell_type": "code",
   "execution_count": 12,
   "metadata": {},
   "outputs": [
    {
     "data": {
      "text/plain": [
       "id;grp    0\n",
       "dtype: int64"
      ]
     },
     "execution_count": 12,
     "metadata": {},
     "output_type": "execute_result"
    }
   ],
   "source": [
    "df1.isna().sum()"
   ]
  },
  {
   "cell_type": "code",
   "execution_count": 7,
   "metadata": {},
   "outputs": [
    {
     "data": {
      "text/plain": [
       "id     0\n",
       "grp    0\n",
       "dtype: int64"
      ]
     },
     "execution_count": 7,
     "metadata": {},
     "output_type": "execute_result"
    }
   ],
   "source": [
    "df2.isna().sum()"
   ]
  },
  {
   "cell_type": "code",
   "execution_count": 8,
   "metadata": {},
   "outputs": [
    {
     "data": {
      "text/plain": [
       "student_id    0\n",
       "dtype: int64"
      ]
     },
     "execution_count": 8,
     "metadata": {},
     "output_type": "execute_result"
    }
   ],
   "source": [
    "df3.isna().sum()"
   ]
  },
  {
   "cell_type": "code",
   "execution_count": 9,
   "metadata": {},
   "outputs": [
    {
     "data": {
      "text/plain": [
       "student_id;\"rev\"    0\n",
       "dtype: int64"
      ]
     },
     "execution_count": 9,
     "metadata": {},
     "output_type": "execute_result"
    }
   ],
   "source": [
    "df4.isna().sum()"
   ]
  },
  {
   "cell_type": "markdown",
   "metadata": {},
   "source": [
    "<div style=\"background-color: #d9f2fa; padding: 10px; border-radius: 5px;\">\n",
    "Проверяю дубликаты\n",
    "</div>"
   ]
  },
  {
   "cell_type": "code",
   "execution_count": 14,
   "metadata": {},
   "outputs": [
    {
     "data": {
      "text/plain": [
       "np.int64(0)"
      ]
     },
     "execution_count": 14,
     "metadata": {},
     "output_type": "execute_result"
    }
   ],
   "source": [
    "df1.duplicated().sum()"
   ]
  },
  {
   "cell_type": "code",
   "execution_count": 15,
   "metadata": {},
   "outputs": [
    {
     "data": {
      "text/plain": [
       "np.int64(0)"
      ]
     },
     "execution_count": 15,
     "metadata": {},
     "output_type": "execute_result"
    }
   ],
   "source": [
    "df2.duplicated().sum()"
   ]
  },
  {
   "cell_type": "code",
   "execution_count": 16,
   "metadata": {},
   "outputs": [
    {
     "data": {
      "text/plain": [
       "np.int64(0)"
      ]
     },
     "execution_count": 16,
     "metadata": {},
     "output_type": "execute_result"
    }
   ],
   "source": [
    "df3.duplicated().sum()"
   ]
  },
  {
   "cell_type": "code",
   "execution_count": 17,
   "metadata": {},
   "outputs": [
    {
     "data": {
      "text/plain": [
       "np.int64(0)"
      ]
     },
     "execution_count": 17,
     "metadata": {},
     "output_type": "execute_result"
    }
   ],
   "source": [
    "df4.duplicated().sum()"
   ]
  },
  {
   "cell_type": "markdown",
   "metadata": {},
   "source": [
    "<div style=\"background-color: #d9f2fa; padding: 10px; border-radius: 5px;\">\n",
    "Проверяю типы данных\n",
    "</div>"
   ]
  },
  {
   "cell_type": "code",
   "execution_count": 19,
   "metadata": {},
   "outputs": [
    {
     "data": {
      "text/plain": [
       "id;grp    object\n",
       "dtype: object"
      ]
     },
     "execution_count": 19,
     "metadata": {},
     "output_type": "execute_result"
    }
   ],
   "source": [
    "df1.dtypes"
   ]
  },
  {
   "cell_type": "code",
   "execution_count": 20,
   "metadata": {},
   "outputs": [
    {
     "data": {
      "text/plain": [
       "id      int64\n",
       "grp    object\n",
       "dtype: object"
      ]
     },
     "execution_count": 20,
     "metadata": {},
     "output_type": "execute_result"
    }
   ],
   "source": [
    "df2.dtypes"
   ]
  },
  {
   "cell_type": "code",
   "execution_count": 21,
   "metadata": {},
   "outputs": [
    {
     "data": {
      "text/plain": [
       "student_id    int64\n",
       "dtype: object"
      ]
     },
     "execution_count": 21,
     "metadata": {},
     "output_type": "execute_result"
    }
   ],
   "source": [
    "df3.dtypes"
   ]
  },
  {
   "cell_type": "code",
   "execution_count": 22,
   "metadata": {},
   "outputs": [
    {
     "data": {
      "text/plain": [
       "student_id;\"rev\"    object\n",
       "dtype: object"
      ]
     },
     "execution_count": 22,
     "metadata": {},
     "output_type": "execute_result"
    }
   ],
   "source": [
    "df4.dtypes"
   ]
  },
  {
   "cell_type": "markdown",
   "metadata": {},
   "source": [
    "<div style=\"background-color: #d9f2fa; padding: 10px; border-radius: 5px;\">\n",
    "В данных нету пропусков и дубликатов. В некоторых дф необходимо разделить столбцы, переименовать student_id, исправить типы данных.\n",
    "Логика объединения данных: к 1 дф добавляю 2 и далее объединяю с третим, оставляя только тех, кто участвовал в тесте. Далее добавляю revenue\n",
    "</div>"
   ]
  },
  {
   "cell_type": "markdown",
   "metadata": {},
   "source": [
    "<div style=\"background-color: #d9f2fa; padding: 10px; border-radius: 5px;\">\n",
    "Разбиваю дф1 на 2 столбца\n",
    "</div>"
   ]
  },
  {
   "cell_type": "code",
   "execution_count": 30,
   "metadata": {},
   "outputs": [],
   "source": [
    "df1[['student_id', 'grp']] = df1['id;grp'].str.split(';', expand=True)\n",
    "df1.drop(columns=['id;grp'], inplace=True)"
   ]
  },
  {
   "cell_type": "markdown",
   "metadata": {},
   "source": [
    "<div style=\"background-color: #d9f2fa; padding: 10px; border-radius: 5px;\">\n",
    "Разбиваю дф4 на 2 столбца\n",
    "</div>"
   ]
  },
  {
   "cell_type": "code",
   "execution_count": 31,
   "metadata": {},
   "outputs": [],
   "source": [
    "df4[['student_id', 'rev']] = df4['student_id;\"rev\"'].str.split(';', expand=True)\n",
    "df4.drop(columns=['student_id;\"rev\"'], inplace=True)"
   ]
  },
  {
   "cell_type": "markdown",
   "metadata": {},
   "source": [
    "<div style=\"background-color: #d9f2fa; padding: 10px; border-radius: 5px;\">\n",
    "Переименовываю столбец дф2\n",
    "</div>"
   ]
  },
  {
   "cell_type": "code",
   "execution_count": 32,
   "metadata": {},
   "outputs": [],
   "source": [
    "df2.rename(columns={\"id\": \"student_id\"}, inplace=True)"
   ]
  },
  {
   "cell_type": "markdown",
   "metadata": {},
   "source": [
    "<div style=\"background-color: #d9f2fa; padding: 10px; border-radius: 5px;\">\n",
    "Привожу столбцы к нужным типам данных\n",
    "</div>"
   ]
  },
  {
   "cell_type": "code",
   "execution_count": 33,
   "metadata": {},
   "outputs": [],
   "source": [
    "df1['student_id'] = df1['student_id'].astype(str)\n",
    "df2['student_id'] = df2['student_id'].astype(str)\n",
    "df3['student_id'] = df3['student_id'].astype(str)\n",
    "df4['student_id'] = df4['student_id'].astype(str)\n",
    "df4['rev'] = df4['rev'].astype(float)"
   ]
  },
  {
   "cell_type": "markdown",
   "metadata": {},
   "source": [
    "<div style=\"background-color: #d9f2fa; padding: 10px; border-radius: 5px;\">\n",
    "Добавляю пользователей, которых скинули позже, к изначальным\n",
    "</div>"
   ]
  },
  {
   "cell_type": "code",
   "execution_count": 34,
   "metadata": {},
   "outputs": [],
   "source": [
    "df_1_2 = pd.concat([df1, df2], ignore_index=True)"
   ]
  },
  {
   "cell_type": "markdown",
   "metadata": {},
   "source": [
    "<div style=\"background-color: #d9f2fa; padding: 10px; border-radius: 5px;\">\n",
    "Оставляю только тех пользователей, которые заходили на платформу в дни проведения эксперимента</div>"
   ]
  },
  {
   "cell_type": "code",
   "execution_count": 35,
   "metadata": {},
   "outputs": [],
   "source": [
    "df_filtred = pd.merge(df3, df_1_2, on='student_id', how='left')"
   ]
  },
  {
   "cell_type": "markdown",
   "metadata": {},
   "source": [
    "<div style=\"background-color: #d9f2fa; padding: 10px; border-radius: 5px;\">\n",
    "Добавляю колонку revenue</div>"
   ]
  },
  {
   "cell_type": "code",
   "execution_count": 36,
   "metadata": {},
   "outputs": [],
   "source": [
    "df_filtred_rev = pd.merge(df_filtred, df4, on='student_id', how='left')"
   ]
  },
  {
   "cell_type": "markdown",
   "metadata": {},
   "source": [
    "<div style=\"background-color: #d9f2fa; padding: 10px; border-radius: 5px;\">\n",
    "Количество пользователей в группах</div>"
   ]
  },
  {
   "cell_type": "code",
   "execution_count": 37,
   "metadata": {},
   "outputs": [
    {
     "data": {
      "text/plain": [
       "grp\n",
       "B    6803\n",
       "A    1538\n",
       "Name: count, dtype: int64"
      ]
     },
     "execution_count": 37,
     "metadata": {},
     "output_type": "execute_result"
    }
   ],
   "source": [
    "df_filtred_rev['grp'].value_counts()"
   ]
  },
  {
   "cell_type": "markdown",
   "metadata": {},
   "source": [
    "Визуализация на графике"
   ]
  },
  {
   "cell_type": "code",
   "execution_count": 38,
   "metadata": {},
   "outputs": [
    {
     "data": {
      "image/png": "[encoded data removed]",
      "text/plain": [
       "<Figure size 1400x600 with 1 Axes>"
      ]
     },
     "metadata": {},
     "output_type": "display_data"
    }
   ],
   "source": [
    "plt.figure(figsize=(14, 6))\n",
    "plt.barh(df_filtred_rev['grp'].value_counts().index, df_filtred_rev['grp'].value_counts().values, color=['grey', '#7ED321'])\n",
    "plt.xlabel('Пользователи')\n",
    "plt.ylabel('Группы')\n",
    "plt.title('Количество пользователей в группах')\n",
    "plt.grid(True)\n",
    "plt.show()"
   ]
  },
  {
   "cell_type": "markdown",
   "metadata": {},
   "source": [
    "<div style=\"background-color: #d9f2fa; padding: 10px; border-radius: 5px;\">\n",
    "Количество платящих пользователей</div>"
   ]
  },
  {
   "cell_type": "code",
   "execution_count": 39,
   "metadata": {},
   "outputs": [
    {
     "name": "stdout",
     "output_type": "stream",
     "text": [
      "A: 78\n",
      "B: 314\n"
     ]
    }
   ],
   "source": [
    "paying_users_a = df_filtred_rev[df_filtred_rev['grp'] == 'A']['rev'].count()\n",
    "paying_users_b = df_filtred_rev[df_filtred_rev['grp'] == 'B']['rev'].count()\n",
    "\n",
    "print(f'A: {paying_users_a}')\n",
    "print(f'B: {paying_users_b}')"
   ]
  },
  {
   "cell_type": "code",
   "execution_count": 40,
   "metadata": {},
   "outputs": [
    {
     "data": {
      "image/png": "[encoded data removed]",
      "text/plain": [
       "<Figure size 1400x600 with 1 Axes>"
      ]
     },
     "metadata": {},
     "output_type": "display_data"
    }
   ],
   "source": [
    "paying_users = df_filtred_rev.groupby('grp')['student_id'].count()\n",
    "\n",
    "plt.figure(figsize=(14, 6))\n",
    "plt.barh(paying_users.index, paying_users.values, color=['#7ED321', 'grey'])\n",
    "plt.xlabel('Пользователи')\n",
    "plt.ylabel('Группы')\n",
    "plt.title('Количество платящих пользователей в группах')\n",
    "plt.grid(True)\n",
    "plt.show()"
   ]
  },
  {
   "cell_type": "markdown",
   "metadata": {},
   "source": [
    "<div style=\"background-color: #d9f2fa; padding: 10px; border-radius: 5px;\">\n",
    "Выручка в группах</div>"
   ]
  },
  {
   "cell_type": "code",
   "execution_count": 41,
   "metadata": {},
   "outputs": [
    {
     "name": "stdout",
     "output_type": "stream",
     "text": [
      "A: 72820.0\n",
      "B: 394974.0\n"
     ]
    }
   ],
   "source": [
    "revenue_a = df_filtred_rev[df_filtred_rev['grp'] == 'A']['rev'].sum()\n",
    "revenue_b = round(df_filtred_rev[df_filtred_rev['grp'] == 'B']['rev'].sum(), 0)\n",
    "\n",
    "print(f'A: {revenue_a}')\n",
    "print(f'B: {revenue_b}')"
   ]
  },
  {
   "cell_type": "code",
   "execution_count": 42,
   "metadata": {},
   "outputs": [
    {
     "data": {
      "image/png": "[encoded data removed]",
      "text/plain": [
       "<Figure size 1400x600 with 1 Axes>"
      ]
     },
     "metadata": {},
     "output_type": "display_data"
    }
   ],
   "source": [
    "revenue_by_group = df_filtred_rev.groupby('grp')['rev'].sum()\n",
    "\n",
    "plt.figure(figsize=(14, 6))\n",
    "plt.barh(revenue_by_group.index, revenue_by_group.values, color=['#7ED321', 'grey'])\n",
    "plt.xlabel('Единицы выручки')\n",
    "plt.ylabel('Группы')\n",
    "plt.title('Выручка')\n",
    "plt.grid(True)\n",
    "plt.show()"
   ]
  },
  {
   "cell_type": "markdown",
   "metadata": {},
   "source": [
    "# Conversion Rate"
   ]
  },
  {
   "cell_type": "markdown",
   "metadata": {},
   "source": [
    "<div style=\"background-color: #d9f2fa; padding: 10px; border-radius: 5px;\">\n",
    "Считаю конверсию</div>"
   ]
  },
  {
   "cell_type": "code",
   "execution_count": 43,
   "metadata": {},
   "outputs": [
    {
     "name": "stdout",
     "output_type": "stream",
     "text": [
      "A: 5.07\n",
      "B: 4.62\n"
     ]
    }
   ],
   "source": [
    "cr_group_a = (df_filtred_rev[df_filtred_rev['grp'] == 'A']['rev'].count() \n",
    "       / df_filtred_rev[df_filtred_rev['grp'] == 'A']['student_id'].count()) * 100\n",
    "\n",
    "cr_group_b = (df_filtred_rev[df_filtred_rev['grp'] == 'B']['rev'].count() \n",
    "       / df_filtred_rev[df_filtred_rev['grp'] == 'B']['student_id'].count()) * 100\n",
    "\n",
    "print(f\"A: {round(cr_group_a, 2)}\")\n",
    "print(f\"B: {round(cr_group_b, 2)}\")"
   ]
  },
  {
   "cell_type": "code",
   "execution_count": 44,
   "metadata": {},
   "outputs": [
    {
     "data": {
      "image/png": "[encoded data removed]",
      "text/plain": [
       "<Figure size 1400x600 with 1 Axes>"
      ]
     },
     "metadata": {},
     "output_type": "display_data"
    }
   ],
   "source": [
    "groups = ['A', 'B']\n",
    "cr_values = [cr_group_a, cr_group_b]\n",
    "\n",
    "plt.figure(figsize=(14, 6))\n",
    "plt.barh(groups, cr_values, color=['#7ED321', 'grey'])\n",
    "plt.xlabel('Группы')\n",
    "plt.ylabel('Конверсия (%)')\n",
    "plt.title('Конверсия по группам')\n",
    "plt.grid(True)\n",
    "plt.show()"
   ]
  },
  {
   "cell_type": "markdown",
   "metadata": {},
   "source": [
    "<div style=\"background-color: #d9f2fa; padding: 10px; border-radius: 5px;\">\n",
    "Разбиваю на группы для Z-теста</div>"
   ]
  },
  {
   "cell_type": "code",
   "execution_count": 45,
   "metadata": {},
   "outputs": [],
   "source": [
    "# группа А\n",
    "success_a = df_filtred_rev[df_filtred_rev['grp'] == 'A']['rev'].count()\n",
    "total_a = df_filtred_rev[df_filtred_rev['grp'] == 'A']['student_id'].count()\n",
    "\n",
    "# группа В\n",
    "success_b = df_filtred_rev[df_filtred_rev['grp'] == 'B']['rev'].count()\n",
    "total_b = df_filtred_rev[df_filtred_rev['grp'] == 'B']['student_id'].count()\n",
    "\n",
    "success = [success_a, success_b]\n",
    "total = [total_a, total_b]"
   ]
  },
  {
   "cell_type": "markdown",
   "metadata": {},
   "source": [
    "<div style=\"background-color: #d9f2fa; padding: 10px; border-radius: 5px;\">\n",
    "Провожу Z-тест. Н0 - Разницы между СR в группах нет</div>"
   ]
  },
  {
   "cell_type": "code",
   "execution_count": 46,
   "metadata": {},
   "outputs": [
    {
     "data": {
      "text/plain": [
       "(np.float64(0.7629884495263746), np.float64(0.445470284371589))"
      ]
     },
     "execution_count": 46,
     "metadata": {},
     "output_type": "execute_result"
    }
   ],
   "source": [
    "proportions_ztest(success, total)"
   ]
  },
  {
   "cell_type": "markdown",
   "metadata": {},
   "source": [
    "P-value > 0.05 - отвергнуть H0 нельзя"
   ]
  },
  {
   "cell_type": "markdown",
   "metadata": {},
   "source": [
    "# ARPU"
   ]
  },
  {
   "cell_type": "markdown",
   "metadata": {},
   "source": [
    "<div style=\"background-color: #d9f2fa; padding: 10px; border-radius: 5px;\">\n",
    "Разбиваю данные на группы и заменяю пропуски на 0 для проведения корректного стат теста ARPU</div>"
   ]
  },
  {
   "cell_type": "code",
   "execution_count": 47,
   "metadata": {},
   "outputs": [
    {
     "name": "stdout",
     "output_type": "stream",
     "text": [
      "A: 47.3\n",
      "B: 58.1\n"
     ]
    }
   ],
   "source": [
    "arpu_group_a = df_filtred_rev[df_filtred_rev['grp'] == 'A']['rev'].fillna(0)\n",
    "arpu_group_b = df_filtred_rev[df_filtred_rev['grp'] == 'B']['rev'].fillna(0)\n",
    "\n",
    "print(f\"A: {round(arpu_group_a.mean(), 1)}\")\n",
    "print(f\"B: {round(arpu_group_b.mean(), 1)}\")"
   ]
  },
  {
   "cell_type": "markdown",
   "metadata": {},
   "source": [
    "<div style=\"background-color: #d9f2fa; padding: 10px; border-radius: 5px;\">\n",
    "Распределение ARPU</div>"
   ]
  },
  {
   "cell_type": "code",
   "execution_count": 48,
   "metadata": {},
   "outputs": [
    {
     "data": {
      "image/png": "[encoded data removed]",
      "text/plain": [
       "<Figure size 1400x600 with 1 Axes>"
      ]
     },
     "metadata": {},
     "output_type": "display_data"
    }
   ],
   "source": [
    "plt.figure(figsize=(14, 6))\n",
    "\n",
    "plt.hist(arpu_group_a, bins=30, alpha=0.5, label='Group A', color='blue')\n",
    "plt.hist(arpu_group_b, bins=30, alpha=0.5, label='Group B', color='red')\n",
    "\n",
    "plt.title('Histogram of ARPU for Groups A and B')\n",
    "plt.xlabel('ARPU')\n",
    "plt.ylabel('Count')\n",
    "plt.legend()\n",
    "plt.grid(True)\n",
    "plt.show()"
   ]
  },
  {
   "cell_type": "markdown",
   "metadata": {},
   "source": [
    "<div style=\"background-color: #d9f2fa; padding: 10px; border-radius: 5px;\">\n",
    "Провожу Тест Левене на равенство дисперсий. Н0 - разницы в дисперсиях нет</div>"
   ]
  },
  {
   "cell_type": "code",
   "execution_count": 49,
   "metadata": {},
   "outputs": [
    {
     "data": {
      "text/plain": [
       "LeveneResult(statistic=np.float64(1.5014608294336371), pvalue=np.float64(0.22048133327049668))"
      ]
     },
     "execution_count": 49,
     "metadata": {},
     "output_type": "execute_result"
    }
   ],
   "source": [
    " levene(arpu_group_a, arpu_group_b)"
   ]
  },
  {
   "cell_type": "markdown",
   "metadata": {},
   "source": [
    "<div style=\"background-color: #d9f2fa; padding: 10px; border-radius: 5px;\">\n",
    "P value > 0.05 значит разницы в дисперсиях нет. Провожу Тест Медиан. Н0 - различий медиан в группах нет.</div>"
   ]
  },
  {
   "cell_type": "code",
   "execution_count": 50,
   "metadata": {},
   "outputs": [
    {
     "data": {
      "text/plain": [
       "MedianTestResult(statistic=np.float64(0.484808265225579), pvalue=np.float64(0.48625240457231034), median=np.float64(0.0), table=array([[  78,  314],\n",
       "       [1460, 6489]]))"
      ]
     },
     "execution_count": 50,
     "metadata": {},
     "output_type": "execute_result"
    }
   ],
   "source": [
    "median_test(arpu_group_a, arpu_group_b)"
   ]
  },
  {
   "cell_type": "markdown",
   "metadata": {},
   "source": [
    "<div style=\"background-color: #d9f2fa; padding: 10px; border-radius: 5px;\">\n",
    "P-value > 0.05, значит не отвергаю H0. Провожу бутстрап для сравнения различий средних значений. Н0 - различий в средних нет.</div>"
   ]
  },
  {
   "cell_type": "code",
   "execution_count": 51,
   "metadata": {},
   "outputs": [
    {
     "name": "stdout",
     "output_type": "stream",
     "text": [
      "95% доверительный интервал разницы средних: [-27.19, 6.69]\n"
     ]
    }
   ],
   "source": [
    "arpu_iterations = 1000\n",
    "arpu_differents = []\n",
    "\n",
    "for _ in range(arpu_iterations):\n",
    "    arpu_a_group_sample = np.random.choice(arpu_group_a, size=len(arpu_group_a), replace=True)\n",
    "    arpu_b_group_sample = np.random.choice(arpu_group_b, size=len(arpu_group_b), replace=True)\n",
    "    \n",
    "    arpu_diff = np.mean(arpu_a_group_sample) - np.mean(arpu_b_group_sample)\n",
    "    arpu_differents.append(arpu_diff)\n",
    "    \n",
    "arpu_lower_bound = np.percentile(arpu_differents, 2.5)\n",
    "arpu_upper_bound = np.percentile(arpu_differents, 97.5)\n",
    "\n",
    "print(f\"95% доверительный интервал разницы средних: [{arpu_lower_bound:.2f}, {arpu_upper_bound:.2f}]\")"
   ]
  },
  {
   "cell_type": "markdown",
   "metadata": {},
   "source": [
    "<div style=\"background-color: #d9f2fa; padding: 10px; border-radius: 5px;\">\n",
    "0 входит в дипазон  - отвергнуть Н0 нельзя</div>"
   ]
  },
  {
   "cell_type": "markdown",
   "metadata": {},
   "source": [
    "# ARPPU"
   ]
  },
  {
   "cell_type": "markdown",
   "metadata": {},
   "source": [
    "<div style=\"background-color: #d9f2fa; padding: 10px; border-radius: 5px;\">\n",
    "Разбиваю данные на группы и убираю пропуски для стат теста ARPPU</div>"
   ]
  },
  {
   "cell_type": "code",
   "execution_count": 52,
   "metadata": {
    "scrolled": true
   },
   "outputs": [
    {
     "name": "stdout",
     "output_type": "stream",
     "text": [
      "A: 933.6\n",
      "B: 1257.9\n"
     ]
    }
   ],
   "source": [
    "arppu_group_a = df_filtred_rev[df_filtred_rev['grp'] == 'A']['rev'].dropna()\n",
    "arppu_group_b = df_filtred_rev[df_filtred_rev['grp'] == 'B']['rev'].dropna()\n",
    "\n",
    "print(f\"A: {round(arppu_group_a.mean(), 1)}\")\n",
    "print(f\"B: {round(arppu_group_b.mean(), 1)}\")"
   ]
  },
  {
   "cell_type": "markdown",
   "metadata": {},
   "source": [
    "<div style=\"background-color: #d9f2fa; padding: 10px; border-radius: 5px;\">\n",
    "Распределение ARPPU</div>"
   ]
  },
  {
   "cell_type": "code",
   "execution_count": 53,
   "metadata": {},
   "outputs": [
    {
     "data": {
      "image/png": "[encoded data removed]",
      "text/plain": [
       "<Figure size 1400x600 with 1 Axes>"
      ]
     },
     "metadata": {},
     "output_type": "display_data"
    }
   ],
   "source": [
    "plt.figure(figsize=(14, 6))\n",
    "\n",
    "plt.hist(arppu_group_a, bins=30, alpha=0.5, label='Group A', color='blue')\n",
    "plt.hist(arppu_group_b, bins=30, alpha=0.5, label='Group B', color='red')\n",
    "\n",
    "plt.title('Histogram of ARPPU for Groups A and B')\n",
    "plt.xlabel('ARPPU')\n",
    "plt.ylabel('Count')\n",
    "plt.legend()\n",
    "plt.grid(True)\n",
    "plt.show()"
   ]
  },
  {
   "cell_type": "markdown",
   "metadata": {},
   "source": [
    "<div style=\"background-color: #d9f2fa; padding: 10px; border-radius: 5px;\">\n",
    "Провожу Тест Левене на равенство дисперсий. Н0 - разницы в дисперсиях нет</div>"
   ]
  },
  {
   "cell_type": "code",
   "execution_count": 54,
   "metadata": {},
   "outputs": [
    {
     "data": {
      "text/plain": [
       "LeveneResult(statistic=np.float64(3.0756816999816055), pvalue=np.float64(0.08025675761347023))"
      ]
     },
     "execution_count": 54,
     "metadata": {},
     "output_type": "execute_result"
    }
   ],
   "source": [
    " levene(arppu_group_a, arppu_group_b)"
   ]
  },
  {
   "cell_type": "markdown",
   "metadata": {},
   "source": [
    "<div style=\"background-color: #d9f2fa; padding: 10px; border-radius: 5px;\">\n",
    "P value > 0.05 значит разницы в дисперсиях нет. Провожу Тест Медиан. Н0 - различий медиан в группах нет.</div>"
   ]
  },
  {
   "cell_type": "code",
   "execution_count": 55,
   "metadata": {},
   "outputs": [
    {
     "data": {
      "text/plain": [
       "MedianTestResult(statistic=np.float64(15.441475980353815), pvalue=np.float64(8.509990112411958e-05), median=np.float64(990.0), table=array([[ 21, 165],\n",
       "       [ 57, 149]]))"
      ]
     },
     "execution_count": 55,
     "metadata": {},
     "output_type": "execute_result"
    }
   ],
   "source": [
    "median_test(arppu_group_a, arppu_group_b)"
   ]
  },
  {
   "cell_type": "markdown",
   "metadata": {},
   "source": [
    "<div style=\"background-color: #d9f2fa; padding: 10px; border-radius: 5px;\">\n",
    "т.к pvalue < 0.05 - отвергаю Н0. Также провожу Бутстрап для сравнения средних. Н0 - различий в средних нет.</div>"
   ]
  },
  {
   "cell_type": "code",
   "execution_count": 64,
   "metadata": {},
   "outputs": [
    {
     "name": "stdout",
     "output_type": "stream",
     "text": [
      "95% доверительный интервал разницы средних: [-530.64, -96.68]\n"
     ]
    }
   ],
   "source": [
    "arppu_iterations = 1000\n",
    "arppu_differents = []\n",
    "\n",
    "for _ in range(arppu_iterations):\n",
    "    arppu_a_group_sample = np.random.choice(arppu_group_a, size=len(arppu_group_a), replace=True)\n",
    "    arppu_b_group_sample = np.random.choice(arppu_group_b, size=len(arppu_group_b), replace=True)\n",
    "    \n",
    "    arppu_diff = np.mean(arppu_a_group_sample) - np.mean(arppu_b_group_sample)\n",
    "    arppu_differents.append(arppu_diff)\n",
    "    \n",
    "arppu_lower_bound = np.percentile(arppu_differents, 2.5)\n",
    "arppu_upper_bound = np.percentile(arppu_differents, 97.5)\n",
    "\n",
    "print(f\"95% доверительный интервал разницы средних: [{arppu_lower_bound:.2f}, {arppu_upper_bound:.2f}]\")"
   ]
  },
  {
   "cell_type": "markdown",
   "metadata": {},
   "source": [
    "<div style=\"background-color: #d9f2fa; padding: 10px; border-radius: 5px;\">\n",
    "Поскольку интервал не включает 0, то я отвергаю Н0</div>"
   ]
  },
  {
   "cell_type": "markdown",
   "metadata": {},
   "source": [
    "# Вывод"
   ]
  },
  {
   "cell_type": "markdown",
   "metadata": {},
   "source": [
    "<div style=\"background-color: #d9f2fa; padding: 10px; border-radius: 5px;\">\n",
    "В эксперементе я проанализировал количество пользователей, количество платящих, выручку, CR, ARPU, ARPPU.<br>\n",
    "<br>\n",
    "CR в целевой группе немного ниже. Это может быть связано с тем, что новая механика оплаты отрицательно сказалась на этом показателе. Однако, разница статистически незначительна и может быть случайной.<br>\n",
    "<br>\n",
    "ARPU выше в целевой группе, что может быть результатом более высоких платежей среди существующих платящих пользователей, хотя разница также статистически незначительна.<br>\n",
    "<br>\n",
    "ARPPU значительно выше в целевой группе, что подтверждается стат тестом, и может говорить о положительном влиянии новой механики оплаты среди платящих пользователей.<br>\n",
    "<br>\n",
    "Считаю, что пока рано раскатывать обновления на всех пользоватлей. Стоит провести еще тесты и посмотреть на поведение CR и ARPU и подумать, как увеличить эти метрики.\n",
    "</div>"
   ]
  },
  {
   "cell_type": "markdown",
   "metadata": {},
   "source": [
    "#### Функция для подгрузки информации из дополнительного файла groups_add.csv и пересчёта метрик на основе обновлённых данных."
   ]
  },
  {
   "cell_type": "code",
   "execution_count": 65,
   "metadata": {},
   "outputs": [
    {
     "data": {
      "text/html": [
       "<div>\n",
       "<style scoped>\n",
       "    .dataframe tbody tr th:only-of-type {\n",
       "        vertical-align: middle;\n",
       "    }\n",
       "\n",
       "    .dataframe tbody tr th {\n",
       "        vertical-align: top;\n",
       "    }\n",
       "\n",
       "    .dataframe thead th {\n",
       "        text-align: right;\n",
       "    }\n",
       "</style>\n",
       "<table border=\"1\" class=\"dataframe\">\n",
       "  <thead>\n",
       "    <tr style=\"text-align: right;\">\n",
       "      <th></th>\n",
       "      <th>grp</th>\n",
       "      <th>USERS</th>\n",
       "      <th>PAYERS</th>\n",
       "      <th>TOTAL_REV</th>\n",
       "      <th>ARPPU</th>\n",
       "      <th>CR</th>\n",
       "      <th>ARPU</th>\n",
       "    </tr>\n",
       "  </thead>\n",
       "  <tbody>\n",
       "    <tr>\n",
       "      <th>0</th>\n",
       "      <td>A</td>\n",
       "      <td>1538</td>\n",
       "      <td>78</td>\n",
       "      <td>72820</td>\n",
       "      <td>933.6</td>\n",
       "      <td>5.07</td>\n",
       "      <td>47.3</td>\n",
       "    </tr>\n",
       "    <tr>\n",
       "      <th>1</th>\n",
       "      <td>B</td>\n",
       "      <td>6803</td>\n",
       "      <td>314</td>\n",
       "      <td>394974</td>\n",
       "      <td>1257.9</td>\n",
       "      <td>4.62</td>\n",
       "      <td>58.1</td>\n",
       "    </tr>\n",
       "  </tbody>\n",
       "</table>\n",
       "</div>"
      ],
      "text/plain": [
       "  grp  USERS  PAYERS  TOTAL_REV   ARPPU    CR  ARPU\n",
       "0   A   1538      78      72820   933.6  5.07  47.3\n",
       "1   B   6803     314     394974  1257.9  4.62  58.1"
      ]
     },
     "execution_count": 65,
     "metadata": {},
     "output_type": "execute_result"
    }
   ],
   "source": [
    "def update_metrics(df1, df2, df3, df4):\n",
    "    \n",
    "    # объединение данных\n",
    "    \n",
    "    df_1_2 = pd.concat([df1, df2], ignore_index=True)\n",
    "    df_filtred = pd.merge(df3, df_1_2, on='student_id', how='left')\n",
    "    df_filtred_rev = pd.merge(df_filtred, df4, on='student_id', how='left')\n",
    "    \n",
    "    # метрики\n",
    "    \n",
    "    metrics = df_filtred_rev.groupby('grp').agg(\n",
    "        USERS=('student_id', 'nunique'),\n",
    "        PAYERS=('rev', 'count'),\n",
    "        TOTAL_REV=('rev', 'sum'),\n",
    "        ARPPU=('rev', lambda x: round(x.mean(), 1)),  # Средняя выручка на платящего \n",
    "        CR=('rev', lambda x: round(x.count() / len(x) * 100, 2)),  # Конверсия в платящих\n",
    "        ARPU=('rev', lambda x: round(x.sum() / len(x), 1))  # Средняя выручка на пользователя\n",
    "    ).reset_index()\n",
    "    \n",
    "    return metrics\n",
    "\n",
    "metrics = update_metrics(df1, df2, df3, df4)\n",
    "metrics['TOTAL_REV'] = metrics['TOTAL_REV'].astype(int)\n",
    "metrics"
   ]
  },
  {
   "cell_type": "markdown",
   "metadata": {},
   "source": [
    "#### Функция для построения графиков по получаемым метрикам."
   ]
  },
  {
   "cell_type": "code",
   "execution_count": 66,
   "metadata": {},
   "outputs": [
    {
     "data": {
      "image/png": "[encoded data removed]",
      "text/plain": [
       "<Figure size 1400x500 with 1 Axes>"
      ]
     },
     "metadata": {},
     "output_type": "display_data"
    },
    {
     "data": {
      "image/png": "[encoded data removed]",
      "text/plain": [
       "<Figure size 1400x500 with 1 Axes>"
      ]
     },
     "metadata": {},
     "output_type": "display_data"
    },
    {
     "data": {
      "image/png": "[encoded data removed]",
      "text/plain": [
       "<Figure size 1400x500 with 1 Axes>"
      ]
     },
     "metadata": {},
     "output_type": "display_data"
    },
    {
     "data": {
      "image/png": "[encoded data removed]",
      "text/plain": [
       "<Figure size 1400x500 with 1 Axes>"
      ]
     },
     "metadata": {},
     "output_type": "display_data"
    },
    {
     "data": {
      "image/png": "[encoded data removed]",
      "text/plain": [
       "<Figure size 1400x500 with 1 Axes>"
      ]
     },
     "metadata": {},
     "output_type": "display_data"
    },
    {
     "data": {
      "image/png": "[encoded data removed]",
      "text/plain": [
       "<Figure size 1400x500 with 1 Axes>"
      ]
     },
     "metadata": {},
     "output_type": "display_data"
    }
   ],
   "source": [
    "def bar_plots(metrics):\n",
    "    \n",
    "    # список для корректной интерации\n",
    "    bar_metrics = ['USERS', 'PAYERS', 'TOTAL_REV', 'CR']\n",
    "\n",
    "    # столбчатые диаграммы\n",
    "    for metric in bar_metrics:\n",
    "        plt.figure(figsize=(14, 5))\n",
    "        plt.barh(metrics['grp'], metrics[metric], color=['#7ED321', 'grey'])\n",
    "        plt.title(f'{metric} by Group', fontsize=16)\n",
    "        plt.xlabel('Group', fontsize=12)\n",
    "        plt.ylabel(metric, fontsize=12)\n",
    "        plt.tight_layout()\n",
    "        plt.grid(True)\n",
    "        plt.show()\n",
    "         \n",
    "    # гистограммы распределения\n",
    "def histograms(arpu_group_a, arpu_group_b, arppu_group_a, arppu_group_b):\n",
    "   \n",
    "    # ARPU\n",
    "    plt.figure(figsize=(14, 5))\n",
    "    plt.hist(arpu_group_a, bins=30, alpha=0.5, label='Group A', color='blue')\n",
    "    plt.hist(arpu_group_b, bins=30, alpha=0.5, label='Group B', color='red')\n",
    "    plt.title('Histogram of ARPU for Groups A and B')\n",
    "    plt.xlabel('ARPU')\n",
    "    plt.ylabel('Count')\n",
    "    plt.tight_layout()\n",
    "    plt.grid(True)\n",
    "    plt.show()\n",
    "\n",
    "    # ARPPU\n",
    "    plt.figure(figsize=(14, 5))\n",
    "    plt.hist(arppu_group_a, bins=30, alpha=0.5, label='Group A', color='blue')\n",
    "    plt.hist(arppu_group_b, bins=30, alpha=0.5, label='Group B', color='red')\n",
    "    plt.title('Histogram of ARPPU for Groups A and B')\n",
    "    plt.xlabel('ARPPU')\n",
    "    plt.ylabel('Count')\n",
    "    plt.tight_layout()\n",
    "    plt.grid(True)\n",
    "    plt.show()\n",
    "\n",
    "bar_plots(metrics)\n",
    "histograms(arpu_group_a, arpu_group_b, arppu_group_a, arppu_group_b)"
   ]
  }
 ],
 "metadata": {
  "kernelspec": {
   "display_name": "Python 3 (ipykernel)",
   "language": "python",
   "name": "python3"
  },
  "language_info": {
   "codemirror_mode": {
    "name": "ipython",
    "version": 3
   },
   "file_extension": ".py",
   "mimetype": "text/x-python",
   "name": "python",
   "nbconvert_exporter": "python",
   "pygments_lexer": "ipython3",
   "version": "3.12.8"
  }
 },
 "nbformat": 4,
 "nbformat_minor": 4
}
